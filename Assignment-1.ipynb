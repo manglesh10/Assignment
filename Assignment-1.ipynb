{
 "cells": [
  {
   "cell_type": "markdown",
   "metadata": {},
   "source": [
    "1. In the below elements which of them are values or an expression? eg:- values can be integer or string and expressions will be mathematical operators.\n",
    "* \n",
    "'hello'\n",
    "-87.8\n",
    "- \n",
    "/ \n",
    "+\t\n",
    "6 \n",
    "\n",
    "Sol: 'hello' , -87.8 , 6  are values.\n",
    "      - , / , + are expressions.\n",
    "      "
   ]
  },
  {
   "cell_type": "markdown",
   "metadata": {},
   "source": [
    "2. What is the difference between string and variable?\n",
    "\n",
    "Sol:\n",
    "    A String is a datatype which contain array of sequenced characters and is written inside single quotes, double quotes or triple quotes. Eg: \"DATA_SCIENCE\"\n",
    "    A variable is a container for storing data values. Eg: b = 10 \n",
    "    "
   ]
  },
  {
   "cell_type": "markdown",
   "metadata": {},
   "source": [
    "3. Describe three different data types.\n",
    "\n",
    "Sol:\n",
    "    Integer- An int data type can store a whole number that could hold a zero, positive or negative value.\n",
    "    Boolean- Booleans are used to represent truth values with two constant objects True and False.\n",
    "    Float- Float represents real numbers, a data type that is used to define floating decimal points. "
   ]
  },
  {
   "cell_type": "markdown",
   "metadata": {},
   "source": [
    "4. What is an expression made up of? What do all expressions do?\n",
    "\n",
    "Sol: Expression is made up of operators and operands. It is used to perform various Arithmetic, comparison, Assignment, logical,etc operations.\n",
    "    "
   ]
  },
  {
   "cell_type": "markdown",
   "metadata": {},
   "source": [
    "5. This assignment statements, like spam = 10. What is the difference between an expression and a statement?\n",
    "\n",
    "Sol: A statement is a complete line of code that performs some action, while an expression is any section of the code that evaluates to a value.\n",
    "    "
   ]
  },
  {
   "cell_type": "markdown",
   "metadata": {},
   "source": [
    "6. After running the following code, what does the variable bacon contain?\n",
    "bacon = 22\n",
    "bacon + 1\n",
    "\n",
    "Sol: Variable bacon will contain value 22.\n",
    "    AS bacon + 1 is not assigned to the variable bacon.\n",
    "    "
   ]
  },
  {
   "cell_type": "markdown",
   "metadata": {},
   "source": [
    "7. What should the values of the following two terms be?\n",
    "'spam' + 'spamspam'\n",
    "'spam' * 3\n",
    "\n",
    "Sol:\n",
    "    'spamspamspam'\n",
    "    'spamspamspam'\n",
    "    "
   ]
  },
  {
   "cell_type": "markdown",
   "metadata": {},
   "source": [
    "8. Why is eggs a valid variable name while 100 is invalid?\n",
    "\n",
    "Sol: \n",
    "    A Variable name can start with a character value, hence eggs is valid variable.\n",
    "    A Variable name cannot start with an Integer value, hence 100 is invalid variable.\n",
    "    "
   ]
  },
  {
   "cell_type": "markdown",
   "metadata": {},
   "source": [
    "9. What three functions can be used to get the integer, floating-point number, or string version of a value?\n",
    "\n",
    "Sol:\n",
    "    int()\n",
    "    float()\n",
    "    str()"
   ]
  },
  {
   "cell_type": "markdown",
   "metadata": {},
   "source": [
    "10. Why does this expression cause an error? How can you fix it?\n",
    "'I have eaten ' + 99 + ' burritos.'\n",
    "\n",
    "Sol:\n",
    "    String and Int cannot be concatenated. The int datatype needs to be converted to string datatype.\n",
    "    'I have eaten ' + str('99') + ' burritos.'\n",
    "    "
   ]
  }
 ],
 "metadata": {
  "kernelspec": {
   "display_name": "Python 3",
   "language": "python",
   "name": "python3"
  },
  "language_info": {
   "codemirror_mode": {
    "name": "ipython",
    "version": 3
   },
   "file_extension": ".py",
   "mimetype": "text/x-python",
   "name": "python",
   "nbconvert_exporter": "python",
   "pygments_lexer": "ipython3",
   "version": "3.7.4"
  }
 },
 "nbformat": 4,
 "nbformat_minor": 2
}
