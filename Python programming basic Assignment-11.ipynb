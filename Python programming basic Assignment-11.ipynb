{
 "cells": [
  {
   "cell_type": "markdown",
   "metadata": {},
   "source": [
    "1.\tWrite a Python program to find words which are greater than given length k?"
   ]
  },
  {
   "cell_type": "code",
   "execution_count": 49,
   "metadata": {},
   "outputs": [
    {
     "name": "stdout",
     "output_type": "stream",
     "text": [
      "['stack', 'science', 'ineuron']\n"
     ]
    }
   ],
   "source": [
    "def string_k(k, str):\n",
    "      \n",
    "    string = []  \n",
    "    text = str.split(\" \")\n",
    "      \n",
    "    for x in text:\n",
    "        if len(x) > k:\n",
    "            string.append(x)\n",
    "              \n",
    "    return string    \n",
    "k = 4\n",
    "str =\"full stack data science ineuron\"\n",
    "print(string_k(k, str)) "
   ]
  },
  {
   "cell_type": "markdown",
   "metadata": {},
   "source": [
    "2.\tWrite a Python program for removing i-th character from a string?"
   ]
  },
  {
   "cell_type": "code",
   "execution_count": 46,
   "metadata": {},
   "outputs": [
    {
     "name": "stdout",
     "output_type": "stream",
     "text": [
      "fullsackdatascience\n"
     ]
    }
   ],
   "source": [
    "def remove(string, i): \n",
    "    \n",
    "    a = string[ : i] \n",
    "    b = string[i + 1: ]\n",
    "    return a + b\n",
    "      \n",
    "if __name__ == '__main__':\n",
    "      \n",
    "    string = \"fullstackdatascience\"\n",
    "      \n",
    "    i = 5\n",
    "    print(remove(string, i))"
   ]
  },
  {
   "cell_type": "markdown",
   "metadata": {},
   "source": [
    "3.\tWrite a Python program to split and join a string?"
   ]
  },
  {
   "cell_type": "code",
   "execution_count": 44,
   "metadata": {},
   "outputs": [
    {
     "name": "stdout",
     "output_type": "stream",
     "text": [
      "Enter first String with space :: jupyter notebook\n",
      "['jupyter', 'notebook']\n",
      "Enter second String with (,) :: jupyter,notebook\n",
      "['jupyter', 'notebook']\n"
     ]
    }
   ],
   "source": [
    "str1=input(\"Enter first String with space :: \")\n",
    "print(str1.split())    #splits at space\n",
    "\n",
    "str2=input(\"Enter second String with (,) :: \")\n",
    "print(str2.split(','))    #splits at ','"
   ]
  },
  {
   "cell_type": "markdown",
   "metadata": {},
   "source": [
    "4.\tWrite a Python to check if a given string is binary string or not?"
   ]
  },
  {
   "cell_type": "code",
   "execution_count": 41,
   "metadata": {},
   "outputs": [
    {
     "name": "stdout",
     "output_type": "stream",
     "text": [
      "String A is a binary string.\n",
      "String B is not a binary string.\n"
     ]
    }
   ],
   "source": [
    "string_a = '01010011011110010011'\n",
    "b = {'0','1'}\n",
    "t = set(stringA)\n",
    "\n",
    "if b == t or t == {'0'} or t == {'1'}:\n",
    "    print(\"String A is a binary string.\")\n",
    "else:\n",
    "    print(\"String A is not a binary string.\")\n",
    "\n",
    "string_b = '01201010100102010111'\n",
    "u = set(stringB)\n",
    "\n",
    "if b == u or u == {'0'} or u == {'1'}:\n",
    "    print(\"String B is a binary string.\")\n",
    "else:\n",
    "    print(\"String B is not a binary string.\")"
   ]
  },
  {
   "cell_type": "markdown",
   "metadata": {},
   "source": [
    "5.\tWrite a Python program to find uncommon words from two Strings?"
   ]
  },
  {
   "cell_type": "code",
   "execution_count": 36,
   "metadata": {},
   "outputs": [
    {
     "name": "stdout",
     "output_type": "stream",
     "text": [
      "The uncommon words in strings are: ['Full', 'Stack']\n"
     ]
    }
   ],
   "source": [
    "def find(A, B):\n",
    "    count = {}\n",
    "    for word in A.split():\n",
    "        count[word] = count.get(word, 0) + 1\n",
    "   \n",
    "    for word in B.split():\n",
    "        count[word] = count.get(word, 0) + 1\n",
    "    return [word for word in count if count[word] == 1]\n",
    "A = \"Data Science\"\n",
    "B = \"Full Stack Data Science\"\n",
    "print(\"The uncommon words in strings are:\",find(A, B))"
   ]
  },
  {
   "cell_type": "markdown",
   "metadata": {},
   "source": [
    "6.\tWrite a Python to find all duplicate characters in string?"
   ]
  },
  {
   "cell_type": "code",
   "execution_count": 21,
   "metadata": {},
   "outputs": [
    {
     "name": "stdout",
     "output_type": "stream",
     "text": [
      "l s t a c e\n"
     ]
    }
   ],
   "source": [
    "string = \"fullstackdatascience\"\n",
    "\n",
    "duplicates = []\n",
    "for char in string:\n",
    "    if string.count(char) > 1:\n",
    "        if char not in duplicates:\n",
    "            duplicates.append(char)\n",
    "print(*duplicates)"
   ]
  },
  {
   "cell_type": "markdown",
   "metadata": {},
   "source": [
    "7.\tWrite a Python Program to check if a string contains any special character?"
   ]
  },
  {
   "cell_type": "code",
   "execution_count": 15,
   "metadata": {},
   "outputs": [
    {
     "name": "stdout",
     "output_type": "stream",
     "text": [
      "String is not accepted.\n"
     ]
    }
   ],
   "source": [
    "import re\n",
    "  \n",
    "def run(string): \n",
    "  \n",
    "    regex = re.compile('[@_!#$%^&*()<>?/\\|}{~:]')\n",
    "         \n",
    "    if(regex.search(string) == None):\n",
    "        print(\"String is accepted\")\n",
    "          \n",
    "    else:\n",
    "        print(\"String is not accepted.\")\n",
    "       \n",
    "if __name__ == '__main__' :\n",
    "      \n",
    "\n",
    "    string = \"D@taSc!ence\"\n",
    "      \n",
    "    run(string)"
   ]
  }
 ],
 "metadata": {
  "kernelspec": {
   "display_name": "Python 3",
   "language": "python",
   "name": "python3"
  },
  "language_info": {
   "codemirror_mode": {
    "name": "ipython",
    "version": 3
   },
   "file_extension": ".py",
   "mimetype": "text/x-python",
   "name": "python",
   "nbconvert_exporter": "python",
   "pygments_lexer": "ipython3",
   "version": "3.7.4"
  }
 },
 "nbformat": 4,
 "nbformat_minor": 2
}
