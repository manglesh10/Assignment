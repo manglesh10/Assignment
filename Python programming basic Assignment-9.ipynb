{
 "cells": [
  {
   "cell_type": "markdown",
   "metadata": {},
   "source": [
    "1.\tWrite a Python program to check if the given number is a Disarium Number?"
   ]
  },
  {
   "cell_type": "code",
   "execution_count": 6,
   "metadata": {},
   "outputs": [
    {
     "name": "stdout",
     "output_type": "stream",
     "text": [
      "A copy of the original number is being made...\n",
      "89 is a disarium number !\n"
     ]
    }
   ],
   "source": [
    "def length_calculation(num_val):\n",
    "    length = 0\n",
    "    while(num_val != 0):\n",
    "        length = length + 1\n",
    "        num_val = num_val//10\n",
    "    return length\n",
    "my_num = 89\n",
    "remaining = sum_val = 0\n",
    "len_val = length_calculation(my_num)\n",
    "print(\"A copy of the original number is being made...\")\n",
    "num_val = my_num\n",
    "while(my_num > 0):\n",
    "    remaining = my_num%10\n",
    "    sum_val = sum_val + int(remaining**len_val)\n",
    "    my_num = my_num//10\n",
    "    len_val = len_val - 1\n",
    "if(sum_val == num_val):\n",
    "    print(str(num_val) + \" is a disarium number !\")\n",
    "else:\n",
    "    print(str(num_val) + \" isn't a disarium number\")"
   ]
  },
  {
   "cell_type": "markdown",
   "metadata": {},
   "source": [
    "2.\tWrite a Python program to print all disarium numbers between 1 to 100?"
   ]
  },
  {
   "cell_type": "code",
   "execution_count": 7,
   "metadata": {
    "scrolled": true
   },
   "outputs": [
    {
     "name": "stdout",
     "output_type": "stream",
     "text": [
      "The disarium numbers between 1 and 100 are : \n",
      "1\n",
      "2\n",
      "3\n",
      "4\n",
      "5\n",
      "6\n",
      "7\n",
      "8\n",
      "9\n",
      "89\n"
     ]
    }
   ],
   "source": [
    "def length_calculation(my_val):\n",
    "    len_val = 0\n",
    "    while(my_val != 0):\n",
    "        len_val = len_val + 1\n",
    "        my_val = my_val//10\n",
    "    return len_val\n",
    "def digit_sum(my_num):\n",
    "    remaining = sum_val = 0\n",
    "    len_fun = length_calculation(my_num)\n",
    "    while(my_num > 0):\n",
    "        remaining = my_num%10\n",
    "        sum_val = sum_val + (remaining**len_fun)\n",
    "        my_num = my_num//10\n",
    "        len_fun = len_fun - 1\n",
    "    return sum_val\n",
    "ini_result = 0\n",
    "print(\"The disarium numbers between 1 and 100 are : \")\n",
    "for i in range(1, 101):\n",
    "    ini_result = digit_sum(i)\n",
    "    if(ini_result == i):\n",
    "        print(i)"
   ]
  },
  {
   "cell_type": "markdown",
   "metadata": {},
   "source": [
    "3.\tWrite a Python program to check if the given number is Happy Number?"
   ]
  },
  {
   "cell_type": "code",
   "execution_count": 21,
   "metadata": {},
   "outputs": [
    {
     "name": "stdout",
     "output_type": "stream",
     "text": [
      "35 is not a happy number\n"
     ]
    }
   ],
   "source": [
    "def isHappyNumber(num):    \n",
    "    rem = sum = 0       \n",
    "    while(num > 0):    \n",
    "        rem = num%10    \n",
    "        sum = sum + (rem*rem)    \n",
    "        num = num//10    \n",
    "    return sum    \n",
    "num = 35    \n",
    "result = num    \n",
    "while(result != 1 and result != 4):    \n",
    "    result = isHappyNumber(result)       \n",
    "    if(result == 1):    \n",
    "        print(str(num) + \" is a happy number\")  \n",
    "    elif(result == 4):\n",
    "        print(str(num) + \" is not a happy number\")"
   ]
  },
  {
   "cell_type": "markdown",
   "metadata": {},
   "source": [
    "4.\tWrite a Python program to print all happy numbers between 1 and 100?"
   ]
  },
  {
   "cell_type": "code",
   "execution_count": 31,
   "metadata": {},
   "outputs": [
    {
     "name": "stdout",
     "output_type": "stream",
     "text": [
      "List of happy numbers between 1 and 100: \n",
      "7\n",
      "10\n",
      "13\n",
      "19\n",
      "23\n",
      "28\n",
      "31\n",
      "32\n",
      "44\n",
      "49\n",
      "68\n",
      "70\n",
      "79\n",
      "82\n",
      "86\n",
      "91\n",
      "94\n",
      "97\n",
      "100\n"
     ]
    }
   ],
   "source": [
    "    \n",
    "def isHappyNumber(num):\n",
    "    rem = sum = 0       \n",
    "    while(num > 0):\n",
    "        rem = num%10    \n",
    "        sum = sum + (rem*rem)    \n",
    "        num = num//10    \n",
    "    return sum    \n",
    "    \n",
    "print(\"List of happy numbers between 1 and 100: \")    \n",
    "for i in range(1, 101):\n",
    "    result = i    \n",
    "\n",
    "    while(result != 1 and result != 4):\n",
    "        result = isHappyNumber(result)    \n",
    "        if(result == 1):\n",
    "            print(i)    "
   ]
  },
  {
   "cell_type": "markdown",
   "metadata": {},
   "source": [
    "5.\tWrite a Python program to determine whether the given number is a Harshad Number?"
   ]
  },
  {
   "cell_type": "code",
   "execution_count": 32,
   "metadata": {},
   "outputs": [
    {
     "name": "stdout",
     "output_type": "stream",
     "text": [
      "156 is a harshad number\n"
     ]
    }
   ],
   "source": [
    "num = 156   \n",
    "rem = sum = 0    \n",
    "   \n",
    "n = num   \n",
    "    \n",
    "while(num > 0):    \n",
    "    rem = num%10    \n",
    "    sum = sum + rem    \n",
    "    num = num//10    \n",
    "if(n%sum == 0):    \n",
    "    print(str(n) + \" is a harshad number\")   \n",
    "else:    \n",
    "    print(str(n) + \" is not a harshad number\") "
   ]
  },
  {
   "cell_type": "markdown",
   "metadata": {},
   "source": [
    "6.\tWrite a Python program to print all pronic numbers between 1 and 100?"
   ]
  },
  {
   "cell_type": "code",
   "execution_count": 8,
   "metadata": {},
   "outputs": [
    {
     "name": "stdout",
     "output_type": "stream",
     "text": [
      "Pronic numbers between 1 and 100:\n",
      "2\n",
      "6\n",
      "12\n",
      "20\n",
      "30\n",
      "42\n",
      "56\n",
      "72\n",
      "90\n"
     ]
    }
   ],
   "source": [
    "def isPronicNumber(num):\n",
    "    flag = False\n",
    "    for j in range(1, num+1):\n",
    "     \n",
    "        if((j*(j+1)) == num):\n",
    "            flag = True\n",
    "            break\n",
    "    return flag\n",
    "  \n",
    "print(\"Pronic numbers between 1 and 100:\" )\n",
    "for i in range(1, 101):\n",
    "    if(isPronicNumber(i)):\n",
    "        print(i)\n",
    "      "
   ]
  }
 ],
 "metadata": {
  "kernelspec": {
   "display_name": "Python 3",
   "language": "python",
   "name": "python3"
  },
  "language_info": {
   "codemirror_mode": {
    "name": "ipython",
    "version": 3
   },
   "file_extension": ".py",
   "mimetype": "text/x-python",
   "name": "python",
   "nbconvert_exporter": "python",
   "pygments_lexer": "ipython3",
   "version": "3.7.4"
  }
 },
 "nbformat": 4,
 "nbformat_minor": 2
}
