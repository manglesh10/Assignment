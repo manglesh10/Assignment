#!/usr/bin/env python
# coding: utf-8

# 1.	Write a Python program to convert kilometers to miles?

# In[2]:


kilometers = float(input("Enter value in kilometers: "))

conv = 0.621371

miles = kilometers * conv
print('%0.2f kilometers is equal to %0.2f miles' %(kilometers,miles))


# 2.	Write a Python program to convert Celsius to Fahrenheit?

# In[4]:


celsius = float(input("Enter temperature in celsius: "))

fahrenheit = (celsius * 1.8) + 32
print('%0.1f degree Celsius is equal to %0.1f degree Fahrenheit' %(celsius,fahrenheit))


# 3.	Write a Python program to display calendar?

# In[5]:


import calendar

yy = int(input("Enter year: "))
mm = int(input("Enter month: "))

print(calendar.month(yy, mm))


# 4.	Write a Python program to solve quadratic equation?

# In[8]:


import cmath

a = int(input("Enter value of a : "))
b = int(input("Enter value of b : "))
c = int(input("Enter value of c: "))

d = (b**2) - (4*a*c)

sol1 = (-b-cmath.sqrt(d))/(2*a)
sol2 = (-b+cmath.sqrt(d))/(2*a)

print('The solution are {0} and {1}'.format(sol1,sol2))


# 5.	Write a Python program to swap two variables without temp variable?

# In[10]:


a=int(input("Enter value of first variable: "))
b=int(input("Enter value of second variable: "))
a=a+b
b=a-b
a=a-b
print("After swapping: ")
print("Value of First Varibale a is:",a)
print("Value of second variable b is:",b)

